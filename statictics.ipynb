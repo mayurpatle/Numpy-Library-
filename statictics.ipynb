{
  "nbformat": 4,
  "nbformat_minor": 0,
  "metadata": {
    "colab": {
      "provenance": []
    },
    "kernelspec": {
      "name": "python3",
      "display_name": "Python 3"
    },
    "language_info": {
      "name": "python"
    }
  },
  "cells": [
    {
      "cell_type": "code",
      "execution_count": 7,
      "metadata": {
        "colab": {
          "base_uri": "https://localhost:8080/"
        },
        "id": "GyQgIBUKiGOQ",
        "outputId": "4b44766d-7a41-4e63-e46d-4aeef8cd2060"
      },
      "outputs": [
        {
          "output_type": "execute_result",
          "data": {
            "text/plain": [
              "array([3.5, 4.5])"
            ]
          },
          "metadata": {},
          "execution_count": 7
        }
      ],
      "source": [
        "import  numpy as  np  \n",
        "\n",
        "a  = np.array([ 1  ,3  ,4  ,5   ])\n",
        "b =  np.array([[1  ,3  , 4 ,5  ]  ,  [ 3  , 4 ,5  ,  6, ]])\n",
        "np.mean(a)\n",
        "\n",
        "np.median(a)\n",
        "\n",
        "np.median( b  ,  axis = -1 )  #axis 0  = column , axis 1     is  row   -1s is last  \n",
        "\n",
        "\n",
        "\n",
        "\n",
        "\n",
        "\n",
        "\n",
        "\n",
        "\n",
        "\n",
        "\n",
        "\n",
        "\n",
        "\n"
      ]
    }
  ]
}