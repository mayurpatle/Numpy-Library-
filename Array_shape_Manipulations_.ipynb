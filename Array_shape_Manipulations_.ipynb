{
  "nbformat": 4,
  "nbformat_minor": 0,
  "metadata": {
    "colab": {
      "provenance": []
    },
    "kernelspec": {
      "name": "python3",
      "display_name": "Python 3"
    },
    "language_info": {
      "name": "python"
    }
  },
  "cells": [
    {
      "cell_type": "markdown",
      "source": [
        "Flattening  - Extensively used  in  Data Science \n",
        "\n"
      ],
      "metadata": {
        "id": "FhjpJ1yip3fJ"
      }
    },
    {
      "cell_type": "code",
      "source": [
        "#flatenting makes tha two   arrays  into a  ione  array \n",
        "import  numpy as np  \n",
        "\n",
        "a = np.array([[1,2],[3,4]])\n",
        "a  = a.ravel() \n",
        "a \n"
      ],
      "metadata": {
        "colab": {
          "base_uri": "https://localhost:8080/"
        },
        "id": "zehPdmAZp4vA",
        "outputId": "15b55633-8fe6-460c-8407-dbf4cc0705eb"
      },
      "execution_count": 4,
      "outputs": [
        {
          "output_type": "execute_result",
          "data": {
            "text/plain": [
              "array([1, 2, 3, 4])"
            ]
          },
          "metadata": {},
          "execution_count": 4
        }
      ]
    },
    {
      "cell_type": "markdown",
      "source": [
        "Transpose   \n"
      ],
      "metadata": {
        "id": "deVRYRltrr8E"
      }
    },
    {
      "cell_type": "code",
      "source": [
        "a =  np.array([[1,2,3]  ,  [4,5,6]])  \n",
        "a  = a.T\n",
        "a \n"
      ],
      "metadata": {
        "colab": {
          "base_uri": "https://localhost:8080/"
        },
        "id": "TrmoMA-JrvrU",
        "outputId": "99b49301-f01c-42d5-ed2e-4c5e6333faa8"
      },
      "execution_count": 6,
      "outputs": [
        {
          "output_type": "execute_result",
          "data": {
            "text/plain": [
              "array([[1, 4],\n",
              "       [2, 5],\n",
              "       [3, 6]])"
            ]
          },
          "metadata": {},
          "execution_count": 6
        }
      ]
    },
    {
      "cell_type": "markdown",
      "source": [
        "Reshaping "
      ],
      "metadata": {
        "id": "YrFfvwfbr5WK"
      }
    },
    {
      "cell_type": "code",
      "source": [
        "a =  np.array([1 , 2 ,3  ,4 ,5 ,6  , 7  , 8   ])\n",
        "b  = a.reshape(2  ,4 )\n",
        "b \n"
      ],
      "metadata": {
        "colab": {
          "base_uri": "https://localhost:8080/"
        },
        "id": "peDnIjnNr8oB",
        "outputId": "e4c0ca1b-8095-49e1-dadc-42c7db52fdd5"
      },
      "execution_count": 9,
      "outputs": [
        {
          "output_type": "execute_result",
          "data": {
            "text/plain": [
              "array([[1, 2, 3, 4],\n",
              "       [5, 6, 7, 8]])"
            ]
          },
          "metadata": {},
          "execution_count": 9
        }
      ]
    },
    {
      "cell_type": "markdown",
      "source": [
        "NewAxis \n",
        "\n"
      ],
      "metadata": {
        "id": "lRE-LtxPtjz5"
      }
    },
    {
      "cell_type": "code",
      "source": [
        "z  =  np.array([1  ,   2  , 3  , 4 , 5  , 6 ,7  ,8  ,9  ,10 ])\n",
        "z  = z[: , np.newaxis]\n",
        "z  \n"
      ],
      "metadata": {
        "colab": {
          "base_uri": "https://localhost:8080/"
        },
        "id": "a8yBGbgytmFV",
        "outputId": "6d7de96e-c261-4ac1-fffa-ed4040cb00bc"
      },
      "execution_count": 11,
      "outputs": [
        {
          "output_type": "execute_result",
          "data": {
            "text/plain": [
              "array([[ 1],\n",
              "       [ 2],\n",
              "       [ 3],\n",
              "       [ 4],\n",
              "       [ 5],\n",
              "       [ 6],\n",
              "       [ 7],\n",
              "       [ 8],\n",
              "       [ 9],\n",
              "       [10]])"
            ]
          },
          "metadata": {},
          "execution_count": 11
        }
      ]
    },
    {
      "cell_type": "markdown",
      "source": [
        "Dimentional Reshufling \n",
        "\n"
      ],
      "metadata": {
        "id": "m4-hjqnfu3WG"
      }
    },
    {
      "cell_type": "code",
      "source": [
        "a =  np.arange(4  * 3  * 2  ).reshape(4  , 3  ,2 )\n",
        "print(a.shape)\n",
        "\n",
        "a \n"
      ],
      "metadata": {
        "colab": {
          "base_uri": "https://localhost:8080/"
        },
        "id": "h1dndMemu6hv",
        "outputId": "32fbd087-3710-4d15-d20e-84d7d179f478"
      },
      "execution_count": 14,
      "outputs": [
        {
          "output_type": "stream",
          "name": "stdout",
          "text": [
            "(4, 3, 2)\n"
          ]
        },
        {
          "output_type": "execute_result",
          "data": {
            "text/plain": [
              "array([[[ 0,  1],\n",
              "        [ 2,  3],\n",
              "        [ 4,  5]],\n",
              "\n",
              "       [[ 6,  7],\n",
              "        [ 8,  9],\n",
              "        [10, 11]],\n",
              "\n",
              "       [[12, 13],\n",
              "        [14, 15],\n",
              "        [16, 17]],\n",
              "\n",
              "       [[18, 19],\n",
              "        [20, 21],\n",
              "        [22, 23]]])"
            ]
          },
          "metadata": {},
          "execution_count": 14
        }
      ]
    },
    {
      "cell_type": "markdown",
      "source": [
        "Accessing\n"
      ],
      "metadata": {
        "id": "aQ0zhDdqvbun"
      }
    },
    {
      "cell_type": "code",
      "source": [
        "a[0 , 2 ,1  ]"
      ],
      "metadata": {
        "colab": {
          "base_uri": "https://localhost:8080/"
        },
        "id": "iSPSYQvovdWq",
        "outputId": "ad4d7049-61a5-43f2-f495-170c76e6aac2"
      },
      "execution_count": 15,
      "outputs": [
        {
          "output_type": "execute_result",
          "data": {
            "text/plain": [
              "5"
            ]
          },
          "metadata": {},
          "execution_count": 15
        }
      ]
    },
    {
      "cell_type": "markdown",
      "source": [
        "Resizing \n"
      ],
      "metadata": {
        "id": "Hbif58Fnvi1t"
      }
    },
    {
      "cell_type": "code",
      "source": [
        "a =  np.array([1  ,2  , 3 , 4  ])\n",
        "a.resize((8,  ))\n",
        "a \n"
      ],
      "metadata": {
        "colab": {
          "base_uri": "https://localhost:8080/"
        },
        "id": "Up4eVPhAvj38",
        "outputId": "7249163b-8c05-4830-8eea-75ce8ddb86bb"
      },
      "execution_count": 17,
      "outputs": [
        {
          "output_type": "execute_result",
          "data": {
            "text/plain": [
              "array([1, 2, 3, 4, 0, 0, 0, 0])"
            ]
          },
          "metadata": {},
          "execution_count": 17
        }
      ]
    },
    {
      "cell_type": "markdown",
      "source": [],
      "metadata": {
        "id": "qTZKiZCtv9BJ"
      }
    },
    {
      "cell_type": "markdown",
      "source": [
        "Sorting Data  \n"
      ],
      "metadata": {
        "id": "yO18TS4Xv9Mk"
      }
    },
    {
      "cell_type": "code",
      "source": [
        "a  = np.array([[1,2,5,3] , [7,5,3,1]])\n",
        "a = np.sort( a ,  axis = 1  )\n",
        "a  \n"
      ],
      "metadata": {
        "colab": {
          "base_uri": "https://localhost:8080/"
        },
        "id": "udKQpB7-v_HG",
        "outputId": "c2d8749c-8aa4-49f4-fc13-04bd146d79f2"
      },
      "execution_count": 18,
      "outputs": [
        {
          "output_type": "execute_result",
          "data": {
            "text/plain": [
              "array([[1, 2, 3, 5],\n",
              "       [1, 3, 5, 7]])"
            ]
          },
          "metadata": {},
          "execution_count": 18
        }
      ]
    },
    {
      "cell_type": "markdown",
      "source": [
        "Sorting  with fancy indexing \n"
      ],
      "metadata": {
        "id": "Y-Ztbd-ZwZ7u"
      }
    },
    {
      "cell_type": "code",
      "source": [
        "a  = np.array([5,4,1,8])\n",
        "j = np.argsort(a) #the  postion of the  indices afetr sorting  \n",
        "\n",
        "j  \n"
      ],
      "metadata": {
        "colab": {
          "base_uri": "https://localhost:8080/"
        },
        "id": "C_FVIrucwdNR",
        "outputId": "8551a6a7-577d-4006-c723-9c48ad4654b5"
      },
      "execution_count": 20,
      "outputs": [
        {
          "output_type": "execute_result",
          "data": {
            "text/plain": [
              "array([2, 1, 0, 3])"
            ]
          },
          "metadata": {},
          "execution_count": 20
        }
      ]
    }
  ]
}