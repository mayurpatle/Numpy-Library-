{
  "nbformat": 4,
  "nbformat_minor": 0,
  "metadata": {
    "colab": {
      "provenance": []
    },
    "kernelspec": {
      "name": "python3",
      "display_name": "Python 3"
    },
    "language_info": {
      "name": "python"
    }
  },
  "cells": [
    {
      "cell_type": "code",
      "execution_count": 18,
      "metadata": {
        "colab": {
          "base_uri": "https://localhost:8080/"
        },
        "id": "lvkhpHhvlI29",
        "outputId": "d9adcb31-a88a-4cdd-9a77-f4ceee791bea"
      },
      "outputs": [
        {
          "output_type": "execute_result",
          "data": {
            "text/plain": [
              "array([[ 0,  1,  2],\n",
              "       [10, 11, 12],\n",
              "       [20, 21, 22],\n",
              "       [30, 31, 32]])"
            ]
          },
          "metadata": {},
          "execution_count": 18
        }
      ],
      "source": [
        "import  numpy as  np  \n",
        "\n",
        "a =  np.tile(np.arange(0  ,  40  ,  10  )  ,  ( 3 ,  1  ))\n",
        "a  \n",
        "a = a.T \n",
        "a  \n",
        "\n",
        "\n",
        "b    = np.array([0 , 1  , 2 ])\n",
        "a   =  a+  b \n",
        "a \n",
        "\n",
        "\n",
        "\n"
      ]
    },
    {
      "cell_type": "code",
      "source": [
        "a  =  np.array([10 ,  20 ,  30 ,  40  ])\n",
        "print(a.shape )\n",
        "print(a.ndim)\n",
        "\n",
        "\n",
        "a  =  a[  :  ,  np.newaxis]\n",
        "print(a.shape)\n",
        "a  \n",
        "\n",
        "b  = np.array([1  , 2  ,3  ,4  ])\n",
        "a  = a  + b  \n",
        "a \n"
      ],
      "metadata": {
        "colab": {
          "base_uri": "https://localhost:8080/"
        },
        "id": "jSbtx-H7oOnw",
        "outputId": "04f6d7f9-408a-4035-8571-ecc3e6f07642"
      },
      "execution_count": 25,
      "outputs": [
        {
          "output_type": "stream",
          "name": "stdout",
          "text": [
            "(4,)\n",
            "1\n",
            "(4, 1)\n"
          ]
        },
        {
          "output_type": "execute_result",
          "data": {
            "text/plain": [
              "array([[11, 12, 13, 14],\n",
              "       [21, 22, 23, 24],\n",
              "       [31, 32, 33, 34],\n",
              "       [41, 42, 43, 44]])"
            ]
          },
          "metadata": {},
          "execution_count": 25
        }
      ]
    }
  ]
}