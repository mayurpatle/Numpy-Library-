{
  "cells": [
    {
      "cell_type": "code",
      "execution_count": 1,
      "metadata": {
        "colab": {
          "base_uri": "https://localhost:8080/"
        },
        "id": "DsCPOKy6UFwt",
        "outputId": "60b62d15-c470-4a0e-ce13-300ccbff611c"
      },
      "outputs": [
        {
          "data": {
            "text/plain": [
              "10"
            ]
          },
          "execution_count": 1,
          "metadata": {},
          "output_type": "execute_result"
        }
      ],
      "source": [
        "import  numpy as  np  \n",
        "x  =  np.array([1  , 2 , 3 ,4 ])\n",
        "np.sum(x)"
      ]
    },
    {
      "cell_type": "code",
      "execution_count": 10,
      "metadata": {
        "colab": {
          "base_uri": "https://localhost:8080/"
        },
        "id": "abXtOycrfG_U",
        "outputId": "36b76dbf-b006-4bf2-9c88-3841d5bd50c3"
      },
      "outputs": [
        {
          "data": {
            "text/plain": [
              "array([3, 3])"
            ]
          },
          "execution_count": 10,
          "metadata": {},
          "output_type": "execute_result"
        }
      ],
      "source": [
        "#axix -- column wis eum  \n",
        "x   =  np.array([[1 , 1 ]  , [2 , 2 ]])\n",
        "x.sum(axis  =  0  )  #columns of  forst  dimention  \n"
      ]
    },
    {
      "cell_type": "code",
      "execution_count": 14,
      "metadata": {
        "colab": {
          "base_uri": "https://localhost:8080/"
        },
        "id": "bOr9UEdjfwPk",
        "outputId": "1e13a307-8605-4bfd-b288-bbc44d84bb35"
      },
      "outputs": [
        {
          "data": {
            "text/plain": [
              "2"
            ]
          },
          "execution_count": 14,
          "metadata": {},
          "output_type": "execute_result"
        }
      ],
      "source": [
        "x = np.array([ 1 , 6  , 7  ]) \n",
        "np.min(x)\n",
        "\n",
        "np.argmin(x)\n",
        "\n",
        "np.argmax(x) \n",
        "\n",
        "\n",
        "\n"
      ]
    },
    {
      "cell_type": "markdown",
      "metadata": {
        "id": "t4vtCgiKgbMw"
      },
      "source": [
        "Logical  operations in  numpy  \n"
      ]
    },
    {
      "cell_type": "code",
      "execution_count": 16,
      "metadata": {
        "colab": {
          "base_uri": "https://localhost:8080/"
        },
        "id": "BR-EEu7NgfHS",
        "outputId": "33ba0fe8-0a06-4d4c-a2a4-a3fa744af511"
      },
      "outputs": [
        {
          "data": {
            "text/plain": [
              "False"
            ]
          },
          "execution_count": 16,
          "metadata": {},
          "output_type": "execute_result"
        }
      ],
      "source": [
        "np.all([True ,  True , True  ,  False  ])   #logical  and like \n"
      ]
    },
    {
      "cell_type": "code",
      "execution_count": 17,
      "metadata": {
        "colab": {
          "base_uri": "https://localhost:8080/"
        },
        "id": "GhPR8tP5gt8G",
        "outputId": "8ef5f9cf-df76-4791-ca33-85e92ca89ba4"
      },
      "outputs": [
        {
          "data": {
            "text/plain": [
              "True"
            ]
          },
          "execution_count": 17,
          "metadata": {},
          "output_type": "execute_result"
        }
      ],
      "source": [
        "np.any([True ,  False  , True ])"
      ]
    },
    {
      "cell_type": "code",
      "execution_count": 20,
      "metadata": {
        "colab": {
          "base_uri": "https://localhost:8080/"
        },
        "id": "H8g9A5Lagx9h",
        "outputId": "4876f0f3-7255-4998-f4a0-42c78b02f029"
      },
      "outputs": [
        {
          "data": {
            "text/plain": [
              "False"
            ]
          },
          "execution_count": 20,
          "metadata": {},
          "output_type": "execute_result"
        }
      ],
      "source": [
        "a = np.zeros((50  ,  50 ))\n",
        "np.any( a  !=  0  )"
      ]
    },
    {
      "cell_type": "code",
      "execution_count": 21,
      "metadata": {
        "colab": {
          "base_uri": "https://localhost:8080/"
        },
        "id": "mZBMTIIshAoS",
        "outputId": "237114cf-f26f-4a53-f285-06aabd35af70"
      },
      "outputs": [
        {
          "data": {
            "text/plain": [
              "True"
            ]
          },
          "execution_count": 21,
          "metadata": {},
          "output_type": "execute_result"
        }
      ],
      "source": [
        "np.all(a == 0 )"
      ]
    },
    {
      "cell_type": "code",
      "execution_count": 24,
      "metadata": {
        "colab": {
          "base_uri": "https://localhost:8080/"
        },
        "id": "mhLRX2MghFMQ",
        "outputId": "8c561077-9dc1-458f-c8de-f1770075460f"
      },
      "outputs": [
        {
          "data": {
            "text/plain": [
              "True"
            ]
          },
          "execution_count": 24,
          "metadata": {},
          "output_type": "execute_result"
        }
      ],
      "source": [
        "a  = np.array([1 , 2  ,  3  , 4  ])\n",
        "b  =  np.array([5  , 6 ,7  ,  8   ]) \n",
        "c  =  np.array([  9 , 12  , 13 , 13  ])\n",
        "\n",
        "((b <= c ) &  ( a  <=  b)).all()  #notice  the  &  operator here  \n"
      ]
    }
  ],
  "metadata": {
    "colab": {
      "provenance": []
    },
    "kernelspec": {
      "display_name": "Python 3",
      "language": "python",
      "name": "python3"
    },
    "language_info": {
      "codemirror_mode": {
        "name": "ipython",
        "version": 3
      },
      "file_extension": ".py",
      "mimetype": "text/x-python",
      "name": "python",
      "nbconvert_exporter": "python",
      "pygments_lexer": "ipython3",
      "version": "3.11.1"
    },
    "vscode": {
      "interpreter": {
        "hash": "bf17d2b9cd6666548cfc94a7a534d3db625b6a0b614a4573846b6910a382bd6e"
      }
    }
  },
  "nbformat": 4,
  "nbformat_minor": 0
}
